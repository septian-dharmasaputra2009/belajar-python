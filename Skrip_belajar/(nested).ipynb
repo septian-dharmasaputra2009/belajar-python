{
 "cells": [
  {
   "cell_type": "code",
   "execution_count": 1,
   "id": "99c19a4d-27e5-467a-8344-79bb021f09f5",
   "metadata": {},
   "outputs": [],
   "source": [
    "#data siswa\n",
    "siswa = {\n",
    "    '001': {'nama': 'Septian', 'nilai': 88},\n",
    "    '002': {'nama': 'Yeon', 'nilai': 80},\n",
    "    '003': {'nama': 'Astrid', 'nilai': 75},\n",
    "    '004': {'nama': 'Asep', 'nilai': 60},\n",
    "    '005': {'nama': 'Budi', 'nilai': 90}\n",
    "}"
   ]
  },
  {
   "cell_type": "code",
   "execution_count": 44,
   "id": "93c03a6c-9944-4b0c-a4df-1e22d8a013d1",
   "metadata": {},
   "outputs": [],
   "source": [
    "#fungsi kelulusan\n",
    "def a(b):\n",
    "    if b >= 80 :\n",
    "        return 'LULUS'\n",
    "    else :\n",
    "        return 'TIDAK LULUS'"
   ]
  },
  {
   "cell_type": "code",
   "execution_count": 45,
   "id": "985d48c6-0157-4c95-839d-f1ef7e53d305",
   "metadata": {},
   "outputs": [
    {
     "name": "stdout",
     "output_type": "stream",
     "text": [
      "rata-rata nilai  : 78.6\n"
     ]
    }
   ],
   "source": [
    "#nilai rata-rata\n",
    "total = sum(siswa[Id]['nilai'] for Id in siswa)\n",
    "rata = total / len(siswa)\n",
    "print(\"rata-rata nilai  :\", rata)"
   ]
  },
  {
   "cell_type": "code",
   "execution_count": 52,
   "id": "cf461828-349f-4060-9822-79d737c17b26",
   "metadata": {},
   "outputs": [
    {
     "name": "stdout",
     "output_type": "stream",
     "text": [
      "STATUS KELULUSAN\n",
      "-------------------------\n",
      "001|Septian|88|LULUS\n",
      "-------------------------\n",
      "002|Yeon|80|LULUS\n",
      "-------------------------\n",
      "003|Astrid|75|TIDAK LULUS\n",
      "-------------------------\n",
      "004|Asep|60|TIDAK LULUS\n",
      "-------------------------\n",
      "005|Budi|90|LULUS\n"
     ]
    }
   ],
   "source": [
    "#keluarkan data\n",
    "print(\"STATUS KELULUSAN\")\n",
    "for Id in siswa :\n",
    "    data = siswa[Id]\n",
    "    nama = data['nama']\n",
    "    nilai = data['nilai']\n",
    "    status = a(nilai)\n",
    "    print(\"-\" * 25)\n",
    "    print(f\"{Id}|{nama}|{nilai}|{status}\")\n",
    "    "
   ]
  }
 ],
 "metadata": {
  "kernelspec": {
   "display_name": "Python 3 (ipykernel)",
   "language": "python",
   "name": "python3"
  },
  "language_info": {
   "codemirror_mode": {
    "name": "ipython",
    "version": 3
   },
   "file_extension": ".py",
   "mimetype": "text/x-python",
   "name": "python",
   "nbconvert_exporter": "python",
   "pygments_lexer": "ipython3",
   "version": "3.12.7"
  }
 },
 "nbformat": 4,
 "nbformat_minor": 5
}
