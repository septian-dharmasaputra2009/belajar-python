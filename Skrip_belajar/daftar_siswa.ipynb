{
 "cells": [
  {
   "cell_type": "code",
   "execution_count": 1,
   "id": "59f9af24-6d3c-4e7b-89ba-5d484aa56c0c",
   "metadata": {},
   "outputs": [],
   "source": [
    "#Data siswa\n",
    "nilai_siswa = {'Asep' : 88, 'Yeon' : 80, 'Tian' : 75, 'Astrid' : 60, 'Budi' : 90}"
   ]
  },
  {
   "cell_type": "code",
   "execution_count": null,
   "id": "64e321ef-a924-4314-9395-2776be8101c9",
   "metadata": {},
   "outputs": [],
   "source": [
    "#list siswa\n",
    "for nama, nilai in nilai_siswa.items():\n",
    "    print(f\"{nama} : {nilai}\")"
   ]
  },
  {
   "cell_type": "code",
   "execution_count": null,
   "id": "b235fba7-f0d3-43ba-bffe-d08a5a17460c",
   "metadata": {
    "scrolled": true
   },
   "outputs": [],
   "source": [
    "#nilai rata-rata\n",
    "def hitung_rata(jumlah):\n",
    "    return sum(jumlah.values())/len(jumlah)\n",
    "rata = hitung_rata(nilai_siswa)\n",
    "print(\"nilai rata-rata :\" , rata)"
   ]
  },
  {
   "cell_type": "code",
   "execution_count": null,
   "id": "e30d526f-c9a2-485e-92d4-9e1a28713eb2",
   "metadata": {
    "scrolled": true
   },
   "outputs": [],
   "source": [
    "#kelulusan\n",
    "def a(hasil):\n",
    "    if hasil >= 80:\n",
    "        return \"LULUS\"\n",
    "    else :\n",
    "        return \"TIDAK LULUS\""
   ]
  },
  {
   "cell_type": "code",
   "execution_count": 14,
   "id": "1fc77f30-ad89-45ac-85e7-2583704ec9f1",
   "metadata": {},
   "outputs": [
    {
     "name": "stdout",
     "output_type": "stream",
     "text": [
      "STATUS SISWA\n",
      "--------------------\n",
      "Asep : 88 = LULUS\n",
      "--------------------\n",
      "Yeon : 80 = LULUS\n",
      "--------------------\n",
      "Tian : 75 = TIDAK LULUS\n",
      "--------------------\n",
      "Astrid : 60 = TIDAK LULUS\n",
      "--------------------\n",
      "Budi : 90 = LULUS\n"
     ]
    }
   ],
   "source": [
    "#KELULUSAN FINAL\n",
    "print(\"STATUS SISWA\")\n",
    "for nama in nilai_siswa :\n",
    "    nilai = nilai_siswa[nama]\n",
    "    status = a(nilai)\n",
    "    print(\"-\" * 20)\n",
    "    print(nama , \":\", nilai, \"=\", status)"
   ]
  },
  {
   "cell_type": "code",
   "execution_count": null,
   "id": "ab8f4a2f-0e8b-44ee-8d7e-e88884487f44",
   "metadata": {},
   "outputs": [],
   "source": []
  }
 ],
 "metadata": {
  "kernelspec": {
   "display_name": "Python 3 (ipykernel)",
   "language": "python",
   "name": "python3"
  },
  "language_info": {
   "codemirror_mode": {
    "name": "ipython",
    "version": 3
   },
   "file_extension": ".py",
   "mimetype": "text/x-python",
   "name": "python",
   "nbconvert_exporter": "python",
   "pygments_lexer": "ipython3",
   "version": "3.12.7"
  }
 },
 "nbformat": 4,
 "nbformat_minor": 5
}
